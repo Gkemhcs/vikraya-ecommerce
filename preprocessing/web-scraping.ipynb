{
 "cells": [
  {
   "cell_type": "code",
   "execution_count": 2,
   "metadata": {},
   "outputs": [],
   "source": [
    "from bs4 import BeautifulSoup\n",
    "import requests"
   ]
  },
  {
   "cell_type": "code",
   "execution_count": 3,
   "metadata": {},
   "outputs": [],
   "source": [
    "url=\"https://www.jackjones.in/jackets-jj\"\n",
    "soup=BeautifulSoup(requests.get(url).content,'html.parser')\n"
   ]
  },
  {
   "cell_type": "code",
   "execution_count": 51,
   "metadata": {},
   "outputs": [],
   "source": [
    "catalog={\"product_name\":[],\"price\":[],\"image_url\":[],\"description\":[]}\n",
    "product_containers = soup.find_all('div', class_='product-thumb size-option')\n",
    "for container in product_containers:\n",
    "   # Extract image URL\n",
    "   image_tag = container.find('img', class_='swap-image lload img-responsive')\n",
    "   image_url = image_tag['data-src']\n",
    " \n",
    "   price_tag=container.find(\"span\",class_=\"price-new\")\n",
    "   product_name=container.find(\"h4\",class_=\"product-name\")\n",
    "   product_info_link=container.find(\"a\",class_=\"single-product\")[\"href\"]\n",
    "   product_info_request=requests.get(product_info_link)\n",
    "   \n",
    "   product_info_html=BeautifulSoup(product_info_request.content,\"html.parser\")\n",
    "\n",
    "   catalog[\"description\"].append(product_info_html.find_all(\"p\")[2].text.strip())\n",
    "   catalog[\"product_name\"].append(product_name.text.strip())  \n",
    "   catalog[\"image_url\"].append(image_url)\n",
    " \n",
    "\n",
    "   if price_tag is  not None :\n",
    "        catalog[\"price\"].append(price_tag.text.strip())\n",
    "   else:\n",
    "        price_tag=container.find(\"p\",class_=\"price\")\n",
    "        catalog[\"price\"].append(price_tag.text.strip())  \n",
    "   \n"
   ]
  },
  {
   "cell_type": "code",
   "execution_count": 52,
   "metadata": {},
   "outputs": [
    {
     "data": {
      "text/plain": [
       "['This stylish JACK&JONES leather jacket is the perfect addition to your outerwear wardrobe. Crafted from a premium fabric, this jacket will keep you warm while adding a touch of style to any outfit. It features a statement colourblocked hue with logo text and other batch prints for a racer feel! Designed with a front zip-Up closure and a butt on the collar, along with side welt pockets on the front. Wear it over a long-sleeved shirt and jeans for when you head out for a long drive or bike ride!',\n",
       " \"Looking to make a statement this winter szn? We got ya! Check out this uber cool and snazzy hooded jacket from JACK&JONES. It features a super rad colourblocked hue with large pockets for added edge. That's not all! Its subtle text and zip detailing give it that urbane cool edge, which is sure to gonna add a dash of cool to your overall look. This jacket is made from premium quality fabric, so it keeps you warm and snug while having you look fashionable. Style it with a tee and sneakers for a look that'll read winter ready!\",\n",
       " 'Take on the cold looking fly AF wearing this super cosy and edgy puffer jacket for men. This classic JACK&JONES jacket is the perfect addition to your wardrobe. Its contemporary all over typographic design and modern edge silhouette make it a great piece for any look. Wear it over a tee, jeans, and sneakers for a casual day out!',\n",
       " \"Men's black bomber jacket made from premium quality fabric for a comfortable fit & feel. It features oversized front pockets, front button placket, ribbed hem and cuffs, and an overall solid print. Layer it over a tee and pair with jeans for a smart-casual look.\",\n",
       " \"Introducing the perfect outerwear piece for your wardrobe – this stylish bomber jacket from JACK&JONES. Featuring a contemporary design, this jacket is the perfect way to make any outfit look instantly more fashionable. Layer it over a plain t-shirt and jeans and you'll be ready for whatever the day brings.\",\n",
       " 'This Jack&Jones puffer jacket is the perfect way to stay warm and stylish this season. Crafted from quality materials, this timeless piece will make a great addition to any wardrobe. With its classic fit and versatile design, you can easily layer this jacket over anything from a basic t-shirt and jeans combo to a chunky knit sweater and boots for a cool, casual look.',\n",
       " \"Beat the winter chill looking stylish wearing this red puffer jacket from JACK&JONES. Featuring a large logo text print detail on the collar, you're sure to standout wearing this snug piece. Layer it over tees, knits and more!\",\n",
       " 'This super cool JACK&JONES jacket will become a wardrobe staple for seasons to come. Crafted from premium polyester fabric, this piece is designed to stand the test of time. Features a drawstring hood, zip detailing, and side welt pockets with zips. Style it with light wash jeans and a simple white t-shirt for a classic look that never goes out of style.',\n",
       " \"Introducing JACK&JONES' premium cotton blend denim jacket for men – a sleek fusion of style and attitude. Elevate your summer wardrobe with its eye-catching ombre hue and edgy paint splash detailing. This jacket boasts 2 patch pockets, a front button closure, cuffed full sleeves, and a regular fit that screams cool confidence. The back logo patch adds an extra dose of style, making it the ultimate choice for a hot summer look. Pair it effortlessly with a tee and our matching shorts for a statement-making ensemble wherever you go!\",\n",
       " 'This stylish and timeless JACK&JONES Bomber Jacket will add an edge to any look. Crafted from a high-quality fabric and featuring a classic silhouette, this jacket is sure to become an instant wardrobe staple. Style it with slim fit jeans, a casual shirt and trainers for a cool, off-duty look.',\n",
       " 'This Jack & Jones puffer bodywarmer is the perfect addition to your closet! Crafted from recycled polyester material, this piece is sure to last for years to come. Combining style and function, this bodywarmer will keep you warm and looking great at the same time. It features a contrast hued zip closure, side welt pockets, high-neck, and sleeveless in style. Wear it over a white t-shirt with jeans and sneakers for a classic look that never goes out of style.',\n",
       " 'This stylish JACK&JONES jacket designed with faux fur will have you looking your best no matter the occasion. The classic outerwear piece is designed to keep you warm and comfortable while adding a stylish edge to your outfit. Layer it over a neutral t-shirt and jeans for a timeless yet modern look.',\n",
       " 'This classic JACK&JONES casual jacket is the perfect addition to your wardrobe. Crafted from a high-quality cotton stretch fabric, this edgy piece will keep you warm and stylish for years to come. Layer it over a basic white tee and a pair of slim fit jeans for an effortless, smart-casual look.',\n",
       " 'This stylish JACK&JONES Reversible Bomber Jacket is the perfect outerwear to complete any weekend outfit. Crafted from high-quality materials, this bomber jacket is designed to keep you warm and comfortable in all weather conditions. For a timeless look, pair it with dark denim jeans and a plain white tee, or dress it up with a collared shirt for a more sophisticated style.',\n",
       " 'This stylish, lightweight JACK&JONES jacket is perfect for all seasons. Layer it over a basic white tee and jeans for a casual everyday look, or dress it up with a button-up shirt and tailored trousers for a more sophisticated ensemble. With its versatile design, this jacket can be worn any day of the week.',\n",
       " 'Upgrade your autumn/winter vibe with the sleek PRODUKT by JACK&JONES denim jacket. Meticulously crafted from premium cotton, this jacket guarantees warmth without compromising style. Its timeless design effortlessly elevates any outfit – pair it with jeans, a shirt, and some killer boots for an iconic look. Stay cool, stay classic.',\n",
       " 'Upgrade your autumn/winter vibe with the sleek PRODUKT by JACK&JONES denim jacket. Meticulously crafted from premium cotton, this jacket guarantees warmth without compromising style. Its timeless design effortlessly elevates any outfit – pair it with jeans, a shirt, and some killer boots for an iconic look. Stay cool, stay classic.',\n",
       " 'The PRODUKT by JACK&JONES bomber jacket is a stylish addition to any wardrobe. Crafted from premium fabric, this piece is designed to keep you warm and comfortable in even the coldest of conditions. Its timeless silhouette makes it perfect for dressing up or down; layer it over a t-shirt and jeans for an effortless everyday look, or dress it up with a collared shirt and tailored trousers for a sophisticated evening ensemble.',\n",
       " 'This JACK&JONES bomber jacket is the perfect addition to your outerwear collection. With a contemporary design, this bomber jacket will keep you warm and stylish all season long. Wear it over a simple t-shirt or dress it up with a collared shirt and jeans for an effortless yet sophisticated look.',\n",
       " 'Make a statement with this stylish casual Jack & Jones Jacket. Crafted from the finest leather fabric, this jacket will keep you warm and looking sharp during the colder months of the year. Features golden zip closure detailing for added edge. Perfect for teaming with chinos or jeans and a plain tee, this jacket will be sure to add flair to your everyday look.',\n",
       " \"Look cool and stylish with this PRODUKT by JACK&JONES cotton denim jacket. This sleek and modern design can be dressed up or down to fit any occasion. Whether you're going for a casual look or a more dressed-up look, layer this denim jacket over your favourite shirt and pair with slim-fit jeans for an edgy and contemporary look.\",\n",
       " \"This slick and stylish JACK&JONES denim jacket is the perfect addition to your wardrobe. Made from durable cotton blend material, it's designed to keep you warm and protected from the elements whilst looking super dapper! Wear it over a white t-shirt and pair with slim-fit jeans and trainers for a casual yet cool look.\",\n",
       " \"This stylish JACK&JONES Leather Jacket is the perfect addition to your wardrobe. Crafted from high-quality materials, it's designed to keep you warm and comfortable while adding a touch of style to any outfit. Wear with a crisp white shirt, slim-fit jeans, and classic leather shoes for a timeless look that will take you from day to night in effortless style.\",\n",
       " \"Men's winter puffer vest from JACK&JONES. Made from premium quality fabric for a comfortable fit, and features a quilted design with a front open zip closure, high-neck, and sleeveless styling. Has 2 side welt pockets. Layer it over a tee and jeans along with boots for a cosy winter look!\"]"
      ]
     },
     "execution_count": 52,
     "metadata": {},
     "output_type": "execute_result"
    }
   ],
   "source": [
    "catalog[\"description\"]"
   ]
  },
  {
   "cell_type": "code",
   "execution_count": 50,
   "metadata": {},
   "outputs": [
    {
     "name": "stdout",
     "output_type": "stream",
     "text": [
      "https://www.jackjones.in/jackets-jj/272442201-racing-red\n",
      "This stylish JACK&JONES leather jacket is the perfect addition to your outerwear wardrobe. Crafted from a premium fabric, this jacket will keep you warm while adding a touch of style to any outfit. It features a statement colourblocked hue with logo text and other batch prints for a racer feel! Designed with a front zip-Up closure and a butt on the collar, along with side welt pockets on the front. Wear it over a long-sleeved shirt and jeans for when you head out for a long drive or bike ride!\n",
      "https://www.jackjones.in/jackets-jj/235285301-black\n",
      "Looking to make a statement this winter szn? We got ya! Check out this uber cool and snazzy hooded jacket from JACK&JONES. It features a super rad colourblocked hue with large pockets for added edge. That's not all! Its subtle text and zip detailing give it that urbane cool edge, which is sure to gonna add a dash of cool to your overall look. This jacket is made from premium quality fabric, so it keeps you warm and snug while having you look fashionable. Style it with a tee and sneakers for a look that'll read winter ready!\n",
      "https://www.jackjones.in/jackets-jj/235285101-estate-blue\n",
      "Take on the cold looking fly AF wearing this super cosy and edgy puffer jacket for men. This classic JACK&JONES jacket is the perfect addition to your wardrobe. Its contemporary all over typographic design and modern edge silhouette make it a great piece for any look. Wear it over a tee, jeans, and sneakers for a casual day out!\n",
      "https://www.jackjones.in/jackets-jj/272441701-jet-black\n",
      "Men's black bomber jacket made from premium quality fabric for a comfortable fit & feel. It features oversized front pockets, front button placket, ribbed hem and cuffs, and an overall solid print. Layer it over a tee and pair with jeans for a smart-casual look.\n",
      "https://www.jackjones.in/jackets-jj/247242802-elmwood\n",
      "Introducing the perfect outerwear piece for your wardrobe – this stylish bomber jacket from JACK&JONES. Featuring a contemporary design, this jacket is the perfect way to make any outfit look instantly more fashionable. Layer it over a plain t-shirt and jeans and you'll be ready for whatever the day brings.\n",
      "https://www.jackjones.in/jackets-jj/247243203-navy-blazer\n",
      "This Jack&Jones puffer jacket is the perfect way to stay warm and stylish this season. Crafted from quality materials, this timeless piece will make a great addition to any wardrobe. With its classic fit and versatile design, you can easily layer this jacket over anything from a basic t-shirt and jeans combo to a chunky knit sweater and boots for a cool, casual look.\n",
      "https://www.jackjones.in/jackets-jj/900221401-mars-red\n",
      "Beat the winter chill looking stylish wearing this red puffer jacket from JACK&JONES. Featuring a large logo text print detail on the collar, you're sure to standout wearing this snug piece. Layer it over tees, knits and more!\n",
      "https://www.jackjones.in/jackets-jj/247242301-rosin\n",
      "This super cool JACK&JONES jacket will become a wardrobe staple for seasons to come. Crafted from premium polyester fabric, this piece is designed to stand the test of time. Features a drawstring hood, zip detailing, and side welt pockets with zips. Style it with light wash jeans and a simple white t-shirt for a classic look that never goes out of style.\n",
      "https://www.jackjones.in/jackets-jj/216782001-kelp\n",
      "Introducing JACK&JONES' premium cotton blend denim jacket for men – a sleek fusion of style and attitude. Elevate your summer wardrobe with its eye-catching ombre hue and edgy paint splash detailing. This jacket boasts 2 patch pockets, a front button closure, cuffed full sleeves, and a regular fit that screams cool confidence. The back logo patch adds an extra dose of style, making it the ultimate choice for a hot summer look. Pair it effortlessly with a tee and our matching shorts for a statement-making ensemble wherever you go!\n",
      "https://www.jackjones.in/jackets-jj/247242803-rosin\n",
      "This stylish and timeless JACK&JONES Bomber Jacket will add an edge to any look. Crafted from a high-quality fabric and featuring a classic silhouette, this jacket is sure to become an instant wardrobe staple. Style it with slim fit jeans, a casual shirt and trainers for a cool, off-duty look.\n",
      "https://www.jackjones.in/jackets-jj/247242601-black\n",
      "This Jack & Jones puffer bodywarmer is the perfect addition to your closet! Crafted from recycled polyester material, this piece is sure to last for years to come. Combining style and function, this bodywarmer will keep you warm and looking great at the same time. It features a contrast hued zip closure, side welt pockets, high-neck, and sleeveless in style. Wear it over a white t-shirt with jeans and sneakers for a classic look that never goes out of style.\n",
      "https://www.jackjones.in/jackets-jj/247242701-picante\n",
      "This stylish JACK&JONES jacket designed with faux fur will have you looking your best no matter the occasion. The classic outerwear piece is designed to keep you warm and comfortable while adding a stylish edge to your outfit. Layer it over a neutral t-shirt and jeans for a timeless yet modern look.\n",
      "https://www.jackjones.in/jackets-jj/139444106-dusty-pink\n",
      "This classic JACK&JONES casual jacket is the perfect addition to your wardrobe. Crafted from a high-quality cotton stretch fabric, this edgy piece will keep you warm and stylish for years to come. Layer it over a basic white tee and a pair of slim fit jeans for an effortless, smart-casual look.\n",
      "https://www.jackjones.in/jackets-jj/272442601-jet-black\n",
      "This stylish JACK&JONES Reversible Bomber Jacket is the perfect outerwear to complete any weekend outfit. Crafted from high-quality materials, this bomber jacket is designed to keep you warm and comfortable in all weather conditions. For a timeless look, pair it with dark denim jeans and a plain white tee, or dress it up with a collared shirt for a more sophisticated style.\n",
      "https://www.jackjones.in/jackets-jj/247242702-seal-brown\n",
      "This stylish, lightweight JACK&JONES jacket is perfect for all seasons. Layer it over a basic white tee and jeans for a casual everyday look, or dress it up with a button-up shirt and tailored trousers for a more sophisticated ensemble. With its versatile design, this jacket can be worn any day of the week.\n",
      "https://www.jackjones.in/jackets-jj/288655901-dark-blue-denim\n",
      "Upgrade your autumn/winter vibe with the sleek PRODUKT by JACK&JONES denim jacket. Meticulously crafted from premium cotton, this jacket guarantees warmth without compromising style. Its timeless design effortlessly elevates any outfit – pair it with jeans, a shirt, and some killer boots for an iconic look. Stay cool, stay classic.\n",
      "https://www.jackjones.in/jackets-jj/127955601-dark-blue-denim\n",
      "Upgrade your autumn/winter vibe with the sleek PRODUKT by JACK&JONES denim jacket. Meticulously crafted from premium cotton, this jacket guarantees warmth without compromising style. Its timeless design effortlessly elevates any outfit – pair it with jeans, a shirt, and some killer boots for an iconic look. Stay cool, stay classic.\n",
      "https://www.jackjones.in/jackets-jj/177762501-medieval-blue\n",
      "The PRODUKT by JACK&JONES bomber jacket is a stylish addition to any wardrobe. Crafted from premium fabric, this piece is designed to keep you warm and comfortable in even the coldest of conditions. Its timeless silhouette makes it perfect for dressing up or down; layer it over a t-shirt and jeans for an effortless everyday look, or dress it up with a collared shirt and tailored trousers for a sophisticated evening ensemble.\n",
      "https://www.jackjones.in/jackets-jj/247242801-black\n",
      "This JACK&JONES bomber jacket is the perfect addition to your outerwear collection. With a contemporary design, this bomber jacket will keep you warm and stylish all season long. Wear it over a simple t-shirt or dress it up with a collared shirt and jeans for an effortless yet sophisticated look.\n",
      "https://www.jackjones.in/jackets-jj/258373902-navy-blazer\n",
      "Make a statement with this stylish casual Jack & Jones Jacket. Crafted from the finest leather fabric, this jacket will keep you warm and looking sharp during the colder months of the year. Features golden zip closure detailing for added edge. Perfect for teaming with chinos or jeans and a plain tee, this jacket will be sure to add flair to your everyday look.\n",
      "https://www.jackjones.in/jackets-jj/189319602-dark-blue-denim\n",
      "Look cool and stylish with this PRODUKT by JACK&JONES cotton denim jacket. This sleek and modern design can be dressed up or down to fit any occasion. Whether you're going for a casual look or a more dressed-up look, layer this denim jacket over your favourite shirt and pair with slim-fit jeans for an edgy and contemporary look.\n",
      "https://www.jackjones.in/jackets-jj/139444105-moonlit-ocean\n",
      "This slick and stylish JACK&JONES denim jacket is the perfect addition to your wardrobe. Made from durable cotton blend material, it's designed to keep you warm and protected from the elements whilst looking super dapper! Wear it over a white t-shirt and pair with slim-fit jeans and trainers for a casual yet cool look.\n",
      "https://www.jackjones.in/jackets-jj/258373602-olive-night\n",
      "This stylish JACK&JONES Leather Jacket is the perfect addition to your wardrobe. Crafted from high-quality materials, it's designed to keep you warm and comfortable while adding a touch of style to any outfit. Wear with a crisp white shirt, slim-fit jeans, and classic leather shoes for a timeless look that will take you from day to night in effortless style.\n",
      "https://www.jackjones.in/jackets-jj/235285401-tap-shoe\n",
      "Men's winter puffer vest from JACK&JONES. Made from premium quality fabric for a comfortable fit, and features a quilted design with a front open zip closure, high-neck, and sleeveless styling. Has 2 side welt pockets. Layer it over a tee and jeans along with boots for a cosy winter look!\n"
     ]
    }
   ],
   "source": [
    "i=0\n",
    "for container in product_containers:\n",
    "   \n",
    "   \n",
    "    "
   ]
  },
  {
   "cell_type": "code",
   "execution_count": 4,
   "metadata": {},
   "outputs": [],
   "source": [
    "catalog={\"product_name\":[],\"price\":[],\"image_url\":[],\"description\":[]}\n",
    "product_containers = soup.find_all('div', class_='product-thumb size-option')\n",
    "for container in product_containers:\n",
    "   # Extract image URL\n",
    "   \n",
    " \n",
    "   price_tag=container.find(\"span\",class_=\"price-new\")\n",
    "   \n",
    " \n",
    "\n",
    "   if price_tag is  not None :\n",
    "     catalog[\"price\"].append(price_tag.text.strip())\n",
    "   else:\n",
    "       \n",
    "\n",
    "       price_tag=container.find(\"p\",class_=\"price\")\n",
    "       catalog[\"price\"].append(price_tag.text.strip())  \n",
    "   \n"
   ]
  },
  {
   "cell_type": "code",
   "execution_count": 5,
   "metadata": {},
   "outputs": [
    {
     "data": {
      "text/plain": [
       "{'product_name': [],\n",
       " 'price': ['9999',\n",
       "  '7499',\n",
       "  '4999',\n",
       "  '3999',\n",
       "  '2999',\n",
       "  '2999',\n",
       "  '2499',\n",
       "  '7999',\n",
       "  '6999',\n",
       "  '2999',\n",
       "  '2999',\n",
       "  '5499',\n",
       "  '2249',\n",
       "  '3999',\n",
       "  '5499',\n",
       "  '1199',\n",
       "  '1199',\n",
       "  '1049',\n",
       "  '2999',\n",
       "  '7499',\n",
       "  '1199',\n",
       "  '2249',\n",
       "  '7499',\n",
       "  '3499'],\n",
       " 'image_url': [],\n",
       " 'description': []}"
      ]
     },
     "execution_count": 5,
     "metadata": {},
     "output_type": "execute_result"
    }
   ],
   "source": [
    "catalog"
   ]
  },
  {
   "cell_type": "code",
   "execution_count": null,
   "metadata": {},
   "outputs": [],
   "source": []
  }
 ],
 "metadata": {
  "kernelspec": {
   "display_name": "Python 3",
   "language": "python",
   "name": "python3"
  },
  "language_info": {
   "codemirror_mode": {
    "name": "ipython",
    "version": 3
   },
   "file_extension": ".py",
   "mimetype": "text/x-python",
   "name": "python",
   "nbconvert_exporter": "python",
   "pygments_lexer": "ipython3",
   "version": "3.9.2"
  }
 },
 "nbformat": 4,
 "nbformat_minor": 2
}
